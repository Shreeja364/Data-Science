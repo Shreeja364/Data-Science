{
 "cells": [
  {
   "cell_type": "markdown",
   "id": "22675b0c",
   "metadata": {},
   "source": [
    "# Data Science Tools and Ecosystem"
   ]
  },
  {
   "cell_type": "markdown",
   "id": "5f4dd0ad",
   "metadata": {},
   "source": [
    "In this notebook, Data Science Tools and Ecosystem are summarized."
   ]
  },
  {
   "cell_type": "markdown",
   "id": "89b53e78",
   "metadata": {},
   "source": [
    "**Objectives:**\n",
    "- Understand the common data science tools\n",
    "- Learn to use Jupyter Lite Environment\n",
    "- Practice markdown and python code"
   ]
  },
  {
   "cell_type": "markdown",
   "id": "0c66c82c",
   "metadata": {},
   "source": [
    "Some of the popular languages that Data Scientists use are:\n",
    "1. Python\n",
    "2. R\n",
    "3. Scala "
   ]
  },
  {
   "cell_type": "markdown",
   "id": "9ba5c34f",
   "metadata": {},
   "source": [
    "Some of the commonly used libraries used by Data Scientists include:\n",
    "1. Pandas\n",
    "2. Numpy\n",
    "3. Matplotlib"
   ]
  },
  {
   "cell_type": "markdown",
   "id": "b246dbcc",
   "metadata": {},
   "source": [
    "|Data Science Tools|\n",
    "|-----------------|\n",
    "|Jupyter Environment|\n",
    "|R Studio|\n",
    "|Tensor Flow|"
   ]
  },
  {
   "cell_type": "markdown",
   "id": "0ecd7a6a",
   "metadata": {},
   "source": [
    "### Below are a few examples of evaluating arithmetic expressions in Python\n",
    "Examples:\n",
    "- '3+5'\n",
    "- '10*4'\n",
    "- '3-3'"
   ]
  },
  {
   "cell_type": "code",
   "execution_count": 10,
   "id": "d5c0e558",
   "metadata": {},
   "outputs": [
    {
     "data": {
      "text/plain": [
       "17"
      ]
     },
     "execution_count": 10,
     "metadata": {},
     "output_type": "execute_result"
    }
   ],
   "source": [
    "#This a simple arithmetic expression to mutiply then add integers\n",
    "(3*4)+5"
   ]
  },
  {
   "cell_type": "code",
   "execution_count": 11,
   "id": "ec468a75",
   "metadata": {},
   "outputs": [
    {
     "name": "stdout",
     "output_type": "stream",
     "text": [
      "3.3333333333333335 hours\n",
      "3 hours 20 minutes\n"
     ]
    }
   ],
   "source": [
    "#This will convert 200 minutes to hours by diving by 60.\n",
    "hours=200/60\n",
    "print(hours,\"hours\")\n",
    "hr=200//60\n",
    "minutes=200%60\n",
    "print(hr,\"hours\",minutes,\"minutes\")"
   ]
  },
  {
   "cell_type": "markdown",
   "id": "776794e1",
   "metadata": {},
   "source": [
    "## Author\n",
    "Shreeja Banerjee"
   ]
  },
  {
   "cell_type": "markdown",
   "id": "6ce87ad8",
   "metadata": {},
   "source": []
  }
 ],
 "metadata": {
  "kernelspec": {
   "display_name": "base",
   "language": "python",
   "name": "python3"
  },
  "language_info": {
   "codemirror_mode": {
    "name": "ipython",
    "version": 3
   },
   "file_extension": ".py",
   "mimetype": "text/x-python",
   "name": "python",
   "nbconvert_exporter": "python",
   "pygments_lexer": "ipython3",
   "version": "3.11.5"
  }
 },
 "nbformat": 4,
 "nbformat_minor": 5
}
